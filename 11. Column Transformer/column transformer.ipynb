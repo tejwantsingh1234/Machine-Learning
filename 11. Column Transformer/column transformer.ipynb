{
 "cells": [
  {
   "cell_type": "code",
   "execution_count": 13,
   "id": "1dcee8b3-f88a-4cda-b977-8f604b26e1f5",
   "metadata": {},
   "outputs": [],
   "source": [
    "import numpy as np\n",
    "import pandas as pd\n",
    "import warnings\n",
    "warnings.filterwarnings('ignore')"
   ]
  },
  {
   "cell_type": "code",
   "execution_count": 2,
   "id": "d7c4c4ea-28a4-465f-94a2-14839fef821a",
   "metadata": {},
   "outputs": [],
   "source": [
    "from sklearn.impute import SimpleImputer\n",
    "from sklearn.preprocessing import OneHotEncoder\n",
    "from sklearn.preprocessing import OrdinalEncoder"
   ]
  },
  {
   "cell_type": "code",
   "execution_count": 3,
   "id": "55c50014-7226-4d36-bdde-a5935d31ec69",
   "metadata": {},
   "outputs": [
    {
     "data": {
      "text/html": [
       "<div>\n",
       "<style scoped>\n",
       "    .dataframe tbody tr th:only-of-type {\n",
       "        vertical-align: middle;\n",
       "    }\n",
       "\n",
       "    .dataframe tbody tr th {\n",
       "        vertical-align: top;\n",
       "    }\n",
       "\n",
       "    .dataframe thead th {\n",
       "        text-align: right;\n",
       "    }\n",
       "</style>\n",
       "<table border=\"1\" class=\"dataframe\">\n",
       "  <thead>\n",
       "    <tr style=\"text-align: right;\">\n",
       "      <th></th>\n",
       "      <th>age</th>\n",
       "      <th>gender</th>\n",
       "      <th>fever</th>\n",
       "      <th>cough</th>\n",
       "      <th>city</th>\n",
       "      <th>has_covid</th>\n",
       "    </tr>\n",
       "  </thead>\n",
       "  <tbody>\n",
       "    <tr>\n",
       "      <th>0</th>\n",
       "      <td>60</td>\n",
       "      <td>Male</td>\n",
       "      <td>103.0</td>\n",
       "      <td>Mild</td>\n",
       "      <td>Kolkata</td>\n",
       "      <td>No</td>\n",
       "    </tr>\n",
       "    <tr>\n",
       "      <th>1</th>\n",
       "      <td>27</td>\n",
       "      <td>Male</td>\n",
       "      <td>100.0</td>\n",
       "      <td>Mild</td>\n",
       "      <td>Delhi</td>\n",
       "      <td>Yes</td>\n",
       "    </tr>\n",
       "    <tr>\n",
       "      <th>2</th>\n",
       "      <td>42</td>\n",
       "      <td>Male</td>\n",
       "      <td>101.0</td>\n",
       "      <td>Mild</td>\n",
       "      <td>Delhi</td>\n",
       "      <td>No</td>\n",
       "    </tr>\n",
       "    <tr>\n",
       "      <th>3</th>\n",
       "      <td>31</td>\n",
       "      <td>Female</td>\n",
       "      <td>98.0</td>\n",
       "      <td>Mild</td>\n",
       "      <td>Kolkata</td>\n",
       "      <td>No</td>\n",
       "    </tr>\n",
       "    <tr>\n",
       "      <th>4</th>\n",
       "      <td>65</td>\n",
       "      <td>Female</td>\n",
       "      <td>101.0</td>\n",
       "      <td>Mild</td>\n",
       "      <td>Mumbai</td>\n",
       "      <td>No</td>\n",
       "    </tr>\n",
       "  </tbody>\n",
       "</table>\n",
       "</div>"
      ],
      "text/plain": [
       "   age  gender  fever cough     city has_covid\n",
       "0   60    Male  103.0  Mild  Kolkata        No\n",
       "1   27    Male  100.0  Mild    Delhi       Yes\n",
       "2   42    Male  101.0  Mild    Delhi        No\n",
       "3   31  Female   98.0  Mild  Kolkata        No\n",
       "4   65  Female  101.0  Mild   Mumbai        No"
      ]
     },
     "execution_count": 3,
     "metadata": {},
     "output_type": "execute_result"
    }
   ],
   "source": [
    "df = pd.read_csv('covid_toy.csv')\n",
    "df.head()"
   ]
  },
  {
   "cell_type": "code",
   "execution_count": 4,
   "id": "00774095-2c12-44a0-adfe-b1dd0d652cb6",
   "metadata": {},
   "outputs": [
    {
     "data": {
      "text/plain": [
       "cough\n",
       "Mild      62\n",
       "Strong    38\n",
       "Name: count, dtype: int64"
      ]
     },
     "execution_count": 4,
     "metadata": {},
     "output_type": "execute_result"
    }
   ],
   "source": [
    "df['cough'].value_counts()"
   ]
  },
  {
   "cell_type": "code",
   "execution_count": 5,
   "id": "5f393584-8d5a-41cc-92cc-02c8ac44606a",
   "metadata": {},
   "outputs": [
    {
     "data": {
      "text/plain": [
       "city\n",
       "Kolkata      32\n",
       "Bangalore    30\n",
       "Delhi        22\n",
       "Mumbai       16\n",
       "Name: count, dtype: int64"
      ]
     },
     "execution_count": 5,
     "metadata": {},
     "output_type": "execute_result"
    }
   ],
   "source": [
    "df['city'].value_counts()"
   ]
  },
  {
   "cell_type": "code",
   "execution_count": 6,
   "id": "ce4ff5c4-53a0-423c-b845-5574d3024c54",
   "metadata": {},
   "outputs": [
    {
     "data": {
      "text/plain": [
       "age           0\n",
       "gender        0\n",
       "fever        10\n",
       "cough         0\n",
       "city          0\n",
       "has_covid     0\n",
       "dtype: int64"
      ]
     },
     "execution_count": 6,
     "metadata": {},
     "output_type": "execute_result"
    }
   ],
   "source": [
    "df.isnull().sum()"
   ]
  },
  {
   "cell_type": "code",
   "execution_count": 7,
   "id": "7f9cecea-6982-4883-91a3-917b54c1997f",
   "metadata": {},
   "outputs": [],
   "source": [
    "from sklearn.model_selection import train_test_split\n",
    "X_train,X_test,y_train,y_test = train_test_split(df.drop(columns = ['has_covid']),df['has_covid'],test_size = 0.2)"
   ]
  },
  {
   "cell_type": "code",
   "execution_count": 8,
   "id": "3f2aff9d-c5ed-4720-9c03-8a1264578611",
   "metadata": {},
   "outputs": [
    {
     "data": {
      "text/html": [
       "<div>\n",
       "<style scoped>\n",
       "    .dataframe tbody tr th:only-of-type {\n",
       "        vertical-align: middle;\n",
       "    }\n",
       "\n",
       "    .dataframe tbody tr th {\n",
       "        vertical-align: top;\n",
       "    }\n",
       "\n",
       "    .dataframe thead th {\n",
       "        text-align: right;\n",
       "    }\n",
       "</style>\n",
       "<table border=\"1\" class=\"dataframe\">\n",
       "  <thead>\n",
       "    <tr style=\"text-align: right;\">\n",
       "      <th></th>\n",
       "      <th>age</th>\n",
       "      <th>gender</th>\n",
       "      <th>fever</th>\n",
       "      <th>cough</th>\n",
       "      <th>city</th>\n",
       "    </tr>\n",
       "  </thead>\n",
       "  <tbody>\n",
       "    <tr>\n",
       "      <th>35</th>\n",
       "      <td>82</td>\n",
       "      <td>Female</td>\n",
       "      <td>102.0</td>\n",
       "      <td>Strong</td>\n",
       "      <td>Bangalore</td>\n",
       "    </tr>\n",
       "    <tr>\n",
       "      <th>46</th>\n",
       "      <td>19</td>\n",
       "      <td>Female</td>\n",
       "      <td>101.0</td>\n",
       "      <td>Mild</td>\n",
       "      <td>Mumbai</td>\n",
       "    </tr>\n",
       "    <tr>\n",
       "      <th>60</th>\n",
       "      <td>24</td>\n",
       "      <td>Female</td>\n",
       "      <td>102.0</td>\n",
       "      <td>Strong</td>\n",
       "      <td>Bangalore</td>\n",
       "    </tr>\n",
       "    <tr>\n",
       "      <th>0</th>\n",
       "      <td>60</td>\n",
       "      <td>Male</td>\n",
       "      <td>103.0</td>\n",
       "      <td>Mild</td>\n",
       "      <td>Kolkata</td>\n",
       "    </tr>\n",
       "    <tr>\n",
       "      <th>89</th>\n",
       "      <td>46</td>\n",
       "      <td>Male</td>\n",
       "      <td>103.0</td>\n",
       "      <td>Strong</td>\n",
       "      <td>Bangalore</td>\n",
       "    </tr>\n",
       "  </tbody>\n",
       "</table>\n",
       "</div>"
      ],
      "text/plain": [
       "    age  gender  fever   cough       city\n",
       "35   82  Female  102.0  Strong  Bangalore\n",
       "46   19  Female  101.0    Mild     Mumbai\n",
       "60   24  Female  102.0  Strong  Bangalore\n",
       "0    60    Male  103.0    Mild    Kolkata\n",
       "89   46    Male  103.0  Strong  Bangalore"
      ]
     },
     "execution_count": 8,
     "metadata": {},
     "output_type": "execute_result"
    }
   ],
   "source": [
    "X_train.sample(5)"
   ]
  },
  {
   "cell_type": "markdown",
   "id": "ba57417c-02ec-4901-933c-3a006c6d8a5f",
   "metadata": {},
   "source": [
    "## 1. Aam Zindagi"
   ]
  },
  {
   "cell_type": "code",
   "execution_count": 9,
   "id": "c2edb303-70c3-481e-b546-42e115d3c252",
   "metadata": {},
   "outputs": [
    {
     "data": {
      "text/plain": [
       "(80, 1)"
      ]
     },
     "execution_count": 9,
     "metadata": {},
     "output_type": "execute_result"
    }
   ],
   "source": [
    "# adding simple imputer to fever col\n",
    "si = SimpleImputer()\n",
    "X_train_fever = si.fit_transform(X_train[['fever']])\n",
    "\n",
    "# also the test data\n",
    "X_test_fever = si.fit_transform(X_test[['fever']])\n",
    "\n",
    "X_train_fever.shape"
   ]
  },
  {
   "cell_type": "code",
   "execution_count": 11,
   "id": "82ede40a-239c-49b7-9e68-393a1c74df1f",
   "metadata": {},
   "outputs": [
    {
     "data": {
      "text/plain": [
       "(80, 1)"
      ]
     },
     "execution_count": 11,
     "metadata": {},
     "output_type": "execute_result"
    }
   ],
   "source": [
    "# Ordinal encoding -> cough\n",
    "oe = OrdinalEncoder(categories = [['Mild','Strong']])\n",
    "X_train_cough = oe.fit_transform(X_train[['cough']])\n",
    "\n",
    "# also the test data\n",
    "X_test_cough = oe.fit_transform(X_test[['cough']])\n",
    "\n",
    "X_train_cough.shape"
   ]
  },
  {
   "cell_type": "code",
   "execution_count": 14,
   "id": "1f13fb35-147f-4d2e-86cd-3e34277eca52",
   "metadata": {},
   "outputs": [
    {
     "data": {
      "text/plain": [
       "(80, 4)"
      ]
     },
     "execution_count": 14,
     "metadata": {},
     "output_type": "execute_result"
    }
   ],
   "source": [
    "# OneHotEncoding -> gender,city\n",
    "ohe = OneHotEncoder(drop = 'first', sparse = False)\n",
    "X_train_gender_city = ohe.fit_transform(X_train[['gender','city']])\n",
    "\n",
    "# also the test data\n",
    "X_test_gender_city = ohe.fit_transform(X_test[['gender','city']])\n",
    "\n",
    "X_train_gender_city.shape"
   ]
  },
  {
   "cell_type": "code",
   "execution_count": 15,
   "id": "39987666-09cd-438b-8fdc-c395e2b06ba5",
   "metadata": {
    "scrolled": true
   },
   "outputs": [
    {
     "data": {
      "text/plain": [
       "array([[0., 0., 0., 1.],\n",
       "       [0., 0., 0., 0.],\n",
       "       [0., 1., 0., 0.],\n",
       "       [0., 0., 0., 0.],\n",
       "       [1., 1., 0., 0.],\n",
       "       [1., 0., 0., 0.],\n",
       "       [1., 1., 0., 0.],\n",
       "       [0., 0., 0., 0.],\n",
       "       [0., 0., 1., 0.],\n",
       "       [0., 0., 1., 0.],\n",
       "       [1., 0., 1., 0.],\n",
       "       [0., 0., 0., 1.],\n",
       "       [0., 0., 0., 0.],\n",
       "       [0., 0., 0., 0.],\n",
       "       [0., 0., 1., 0.],\n",
       "       [0., 0., 0., 0.],\n",
       "       [1., 0., 0., 0.],\n",
       "       [0., 0., 0., 1.],\n",
       "       [0., 0., 1., 0.],\n",
       "       [0., 0., 1., 0.],\n",
       "       [1., 1., 0., 0.],\n",
       "       [0., 0., 0., 0.],\n",
       "       [1., 0., 0., 0.],\n",
       "       [1., 0., 1., 0.],\n",
       "       [1., 0., 0., 0.],\n",
       "       [0., 1., 0., 0.],\n",
       "       [0., 1., 0., 0.],\n",
       "       [0., 0., 1., 0.],\n",
       "       [0., 0., 0., 0.],\n",
       "       [0., 0., 1., 0.],\n",
       "       [1., 0., 0., 1.],\n",
       "       [0., 0., 0., 0.],\n",
       "       [1., 0., 0., 0.],\n",
       "       [0., 0., 0., 1.],\n",
       "       [1., 0., 1., 0.],\n",
       "       [1., 0., 0., 0.],\n",
       "       [0., 0., 0., 1.],\n",
       "       [0., 0., 0., 0.],\n",
       "       [0., 0., 0., 1.],\n",
       "       [0., 0., 1., 0.],\n",
       "       [1., 0., 1., 0.],\n",
       "       [1., 0., 0., 0.],\n",
       "       [1., 0., 1., 0.],\n",
       "       [0., 1., 0., 0.],\n",
       "       [0., 0., 1., 0.],\n",
       "       [0., 0., 1., 0.],\n",
       "       [1., 0., 1., 0.],\n",
       "       [1., 0., 1., 0.],\n",
       "       [0., 0., 0., 1.],\n",
       "       [0., 1., 0., 0.],\n",
       "       [0., 0., 0., 1.],\n",
       "       [1., 0., 1., 0.],\n",
       "       [0., 0., 1., 0.],\n",
       "       [0., 0., 0., 0.],\n",
       "       [1., 1., 0., 0.],\n",
       "       [1., 0., 0., 0.],\n",
       "       [0., 0., 1., 0.],\n",
       "       [0., 0., 0., 0.],\n",
       "       [0., 0., 1., 0.],\n",
       "       [1., 0., 0., 1.],\n",
       "       [0., 0., 0., 0.],\n",
       "       [1., 0., 0., 0.],\n",
       "       [1., 0., 0., 1.],\n",
       "       [1., 0., 0., 0.],\n",
       "       [0., 0., 0., 1.],\n",
       "       [0., 0., 0., 0.],\n",
       "       [1., 0., 1., 0.],\n",
       "       [0., 0., 0., 0.],\n",
       "       [0., 1., 0., 0.],\n",
       "       [0., 1., 0., 0.],\n",
       "       [0., 1., 0., 0.],\n",
       "       [1., 0., 0., 1.],\n",
       "       [1., 1., 0., 0.],\n",
       "       [0., 0., 1., 0.],\n",
       "       [0., 0., 0., 0.],\n",
       "       [0., 0., 1., 0.],\n",
       "       [1., 0., 1., 0.],\n",
       "       [1., 1., 0., 0.],\n",
       "       [1., 0., 0., 0.],\n",
       "       [1., 0., 1., 0.]])"
      ]
     },
     "execution_count": 15,
     "metadata": {},
     "output_type": "execute_result"
    }
   ],
   "source": [
    "X_train_gender_city"
   ]
  },
  {
   "cell_type": "code",
   "execution_count": 16,
   "id": "f291385b-3980-4f21-8250-dee1393b598e",
   "metadata": {},
   "outputs": [
    {
     "data": {
      "text/html": [
       "<div>\n",
       "<style scoped>\n",
       "    .dataframe tbody tr th:only-of-type {\n",
       "        vertical-align: middle;\n",
       "    }\n",
       "\n",
       "    .dataframe tbody tr th {\n",
       "        vertical-align: top;\n",
       "    }\n",
       "\n",
       "    .dataframe thead th {\n",
       "        text-align: right;\n",
       "    }\n",
       "</style>\n",
       "<table border=\"1\" class=\"dataframe\">\n",
       "  <thead>\n",
       "    <tr style=\"text-align: right;\">\n",
       "      <th></th>\n",
       "      <th>age</th>\n",
       "      <th>gender</th>\n",
       "      <th>fever</th>\n",
       "      <th>cough</th>\n",
       "      <th>city</th>\n",
       "    </tr>\n",
       "  </thead>\n",
       "  <tbody>\n",
       "    <tr>\n",
       "      <th>98</th>\n",
       "      <td>5</td>\n",
       "      <td>Female</td>\n",
       "      <td>98.0</td>\n",
       "      <td>Strong</td>\n",
       "      <td>Mumbai</td>\n",
       "    </tr>\n",
       "    <tr>\n",
       "      <th>8</th>\n",
       "      <td>19</td>\n",
       "      <td>Female</td>\n",
       "      <td>100.0</td>\n",
       "      <td>Strong</td>\n",
       "      <td>Bangalore</td>\n",
       "    </tr>\n",
       "    <tr>\n",
       "      <th>74</th>\n",
       "      <td>34</td>\n",
       "      <td>Female</td>\n",
       "      <td>104.0</td>\n",
       "      <td>Strong</td>\n",
       "      <td>Delhi</td>\n",
       "    </tr>\n",
       "    <tr>\n",
       "      <th>35</th>\n",
       "      <td>82</td>\n",
       "      <td>Female</td>\n",
       "      <td>102.0</td>\n",
       "      <td>Strong</td>\n",
       "      <td>Bangalore</td>\n",
       "    </tr>\n",
       "    <tr>\n",
       "      <th>91</th>\n",
       "      <td>38</td>\n",
       "      <td>Male</td>\n",
       "      <td>NaN</td>\n",
       "      <td>Mild</td>\n",
       "      <td>Delhi</td>\n",
       "    </tr>\n",
       "    <tr>\n",
       "      <th>...</th>\n",
       "      <td>...</td>\n",
       "      <td>...</td>\n",
       "      <td>...</td>\n",
       "      <td>...</td>\n",
       "      <td>...</td>\n",
       "    </tr>\n",
       "    <tr>\n",
       "      <th>96</th>\n",
       "      <td>51</td>\n",
       "      <td>Female</td>\n",
       "      <td>101.0</td>\n",
       "      <td>Strong</td>\n",
       "      <td>Kolkata</td>\n",
       "    </tr>\n",
       "    <tr>\n",
       "      <th>75</th>\n",
       "      <td>5</td>\n",
       "      <td>Male</td>\n",
       "      <td>102.0</td>\n",
       "      <td>Mild</td>\n",
       "      <td>Kolkata</td>\n",
       "    </tr>\n",
       "    <tr>\n",
       "      <th>1</th>\n",
       "      <td>27</td>\n",
       "      <td>Male</td>\n",
       "      <td>100.0</td>\n",
       "      <td>Mild</td>\n",
       "      <td>Delhi</td>\n",
       "    </tr>\n",
       "    <tr>\n",
       "      <th>67</th>\n",
       "      <td>65</td>\n",
       "      <td>Male</td>\n",
       "      <td>99.0</td>\n",
       "      <td>Mild</td>\n",
       "      <td>Bangalore</td>\n",
       "    </tr>\n",
       "    <tr>\n",
       "      <th>94</th>\n",
       "      <td>79</td>\n",
       "      <td>Male</td>\n",
       "      <td>NaN</td>\n",
       "      <td>Strong</td>\n",
       "      <td>Kolkata</td>\n",
       "    </tr>\n",
       "  </tbody>\n",
       "</table>\n",
       "<p>80 rows × 5 columns</p>\n",
       "</div>"
      ],
      "text/plain": [
       "    age  gender  fever   cough       city\n",
       "98    5  Female   98.0  Strong     Mumbai\n",
       "8    19  Female  100.0  Strong  Bangalore\n",
       "74   34  Female  104.0  Strong      Delhi\n",
       "35   82  Female  102.0  Strong  Bangalore\n",
       "91   38    Male    NaN    Mild      Delhi\n",
       "..  ...     ...    ...     ...        ...\n",
       "96   51  Female  101.0  Strong    Kolkata\n",
       "75    5    Male  102.0    Mild    Kolkata\n",
       "1    27    Male  100.0    Mild      Delhi\n",
       "67   65    Male   99.0    Mild  Bangalore\n",
       "94   79    Male    NaN  Strong    Kolkata\n",
       "\n",
       "[80 rows x 5 columns]"
      ]
     },
     "execution_count": 16,
     "metadata": {},
     "output_type": "execute_result"
    }
   ],
   "source": [
    "X_train"
   ]
  },
  {
   "cell_type": "code",
   "execution_count": 17,
   "id": "6ce3bcbb-f86b-43e3-ad48-0cce61dbad13",
   "metadata": {},
   "outputs": [
    {
     "data": {
      "text/plain": [
       "(80, 1)"
      ]
     },
     "execution_count": 17,
     "metadata": {},
     "output_type": "execute_result"
    }
   ],
   "source": [
    "# Extracting age\n",
    "X_train_age = X_train.drop(columns = ['gender','cough','fever','city']).values\n",
    "\n",
    "# also the test data\n",
    "X_test_age = X_test.drop(columns = ['gender','cough','fever','city']).values\n",
    "\n",
    "X_train_age.shape"
   ]
  },
  {
   "cell_type": "code",
   "execution_count": 18,
   "id": "8db1ef23-90fc-4220-9754-46b914171543",
   "metadata": {},
   "outputs": [
    {
     "data": {
      "text/plain": [
       "(80, 7)"
      ]
     },
     "execution_count": 18,
     "metadata": {},
     "output_type": "execute_result"
    }
   ],
   "source": [
    "X_train_transformed = np.concatenate((X_train_age,X_train_cough,X_train_fever,X_train_gender_city),axis = 1)\n",
    "X_test_transformed = np.concatenate((X_test_age,X_test_cough,X_test_fever,X_test_gender_city),axis = 1)\n",
    "\n",
    "X_train_transformed.shape"
   ]
  },
  {
   "cell_type": "code",
   "execution_count": 19,
   "id": "496301c5-311a-4d09-a545-2ca945828916",
   "metadata": {},
   "outputs": [
    {
     "data": {
      "text/plain": [
       "array([[  5.        ,   1.        ,  98.        ,   0.        ,\n",
       "          0.        ,   0.        ,   1.        ],\n",
       "       [ 19.        ,   1.        , 100.        ,   0.        ,\n",
       "          0.        ,   0.        ,   0.        ],\n",
       "       [ 34.        ,   1.        , 104.        ,   0.        ,\n",
       "          1.        ,   0.        ,   0.        ],\n",
       "       [ 82.        ,   1.        , 102.        ,   0.        ,\n",
       "          0.        ,   0.        ,   0.        ],\n",
       "       [ 38.        ,   0.        , 100.92857143,   1.        ,\n",
       "          1.        ,   0.        ,   0.        ],\n",
       "       [ 11.        ,   0.        , 100.        ,   1.        ,\n",
       "          0.        ,   0.        ,   0.        ],\n",
       "       [ 27.        ,   0.        , 100.        ,   1.        ,\n",
       "          1.        ,   0.        ,   0.        ],\n",
       "       [ 47.        ,   1.        , 100.        ,   0.        ,\n",
       "          0.        ,   0.        ,   0.        ],\n",
       "       [  5.        ,   0.        , 100.        ,   0.        ,\n",
       "          0.        ,   1.        ,   0.        ],\n",
       "       [ 13.        ,   1.        , 100.        ,   0.        ,\n",
       "          0.        ,   1.        ,   0.        ],\n",
       "       [ 70.        ,   1.        , 103.        ,   1.        ,\n",
       "          0.        ,   1.        ,   0.        ],\n",
       "       [ 65.        ,   0.        , 101.        ,   0.        ,\n",
       "          0.        ,   0.        ,   1.        ],\n",
       "       [ 56.        ,   1.        , 104.        ,   0.        ,\n",
       "          0.        ,   0.        ,   0.        ],\n",
       "       [ 49.        ,   1.        ,  99.        ,   0.        ,\n",
       "          0.        ,   0.        ,   0.        ],\n",
       "       [ 17.        ,   0.        , 104.        ,   0.        ,\n",
       "          0.        ,   1.        ,   0.        ],\n",
       "       [ 16.        ,   0.        , 103.        ,   0.        ,\n",
       "          0.        ,   0.        ,   0.        ],\n",
       "       [ 51.        ,   0.        , 104.        ,   1.        ,\n",
       "          0.        ,   0.        ,   0.        ],\n",
       "       [ 60.        ,   0.        ,  99.        ,   0.        ,\n",
       "          0.        ,   0.        ,   1.        ],\n",
       "       [ 82.        ,   1.        , 102.        ,   0.        ,\n",
       "          0.        ,   1.        ,   0.        ],\n",
       "       [ 48.        ,   0.        , 103.        ,   0.        ,\n",
       "          0.        ,   1.        ,   0.        ],\n",
       "       [ 83.        ,   0.        ,  98.        ,   1.        ,\n",
       "          1.        ,   0.        ,   0.        ],\n",
       "       [ 69.        ,   0.        , 102.        ,   0.        ,\n",
       "          0.        ,   0.        ,   0.        ],\n",
       "       [ 80.        ,   0.        , 100.        ,   1.        ,\n",
       "          0.        ,   0.        ,   0.        ],\n",
       "       [ 55.        ,   0.        , 100.        ,   1.        ,\n",
       "          0.        ,   1.        ,   0.        ],\n",
       "       [ 12.        ,   1.        ,  98.        ,   1.        ,\n",
       "          0.        ,   0.        ,   0.        ],\n",
       "       [ 75.        ,   1.        , 104.        ,   0.        ,\n",
       "          1.        ,   0.        ,   0.        ],\n",
       "       [ 59.        ,   1.        ,  99.        ,   0.        ,\n",
       "          1.        ,   0.        ,   0.        ],\n",
       "       [ 19.        ,   0.        , 100.        ,   0.        ,\n",
       "          0.        ,   1.        ,   0.        ],\n",
       "       [ 64.        ,   0.        ,  98.        ,   0.        ,\n",
       "          0.        ,   0.        ,   0.        ],\n",
       "       [ 26.        ,   0.        ,  98.        ,   0.        ,\n",
       "          0.        ,   1.        ,   0.        ],\n",
       "       [ 74.        ,   0.        , 102.        ,   1.        ,\n",
       "          0.        ,   0.        ,   1.        ],\n",
       "       [ 84.        ,   0.        , 100.92857143,   0.        ,\n",
       "          0.        ,   0.        ,   0.        ],\n",
       "       [ 46.        ,   1.        , 103.        ,   1.        ,\n",
       "          0.        ,   0.        ,   0.        ],\n",
       "       [ 14.        ,   0.        ,  99.        ,   0.        ,\n",
       "          0.        ,   0.        ,   1.        ],\n",
       "       [ 51.        ,   0.        , 104.        ,   1.        ,\n",
       "          0.        ,   1.        ,   0.        ],\n",
       "       [ 72.        ,   0.        ,  99.        ,   1.        ,\n",
       "          0.        ,   0.        ,   0.        ],\n",
       "       [ 81.        ,   1.        ,  98.        ,   0.        ,\n",
       "          0.        ,   0.        ,   1.        ],\n",
       "       [ 18.        ,   0.        , 104.        ,   0.        ,\n",
       "          0.        ,   0.        ,   0.        ],\n",
       "       [ 81.        ,   0.        , 101.        ,   0.        ,\n",
       "          0.        ,   0.        ,   1.        ],\n",
       "       [ 69.        ,   0.        , 103.        ,   0.        ,\n",
       "          0.        ,   1.        ,   0.        ],\n",
       "       [ 71.        ,   1.        , 100.92857143,   1.        ,\n",
       "          0.        ,   1.        ,   0.        ],\n",
       "       [ 14.        ,   1.        , 101.        ,   1.        ,\n",
       "          0.        ,   0.        ,   0.        ],\n",
       "       [ 60.        ,   0.        , 103.        ,   1.        ,\n",
       "          0.        ,   1.        ,   0.        ],\n",
       "       [ 49.        ,   0.        , 101.        ,   0.        ,\n",
       "          1.        ,   0.        ,   0.        ],\n",
       "       [ 50.        ,   0.        , 103.        ,   0.        ,\n",
       "          0.        ,   1.        ,   0.        ],\n",
       "       [ 83.        ,   0.        , 101.        ,   0.        ,\n",
       "          0.        ,   1.        ,   0.        ],\n",
       "       [ 24.        ,   0.        ,  98.        ,   1.        ,\n",
       "          0.        ,   1.        ,   0.        ],\n",
       "       [ 27.        ,   0.        , 100.        ,   1.        ,\n",
       "          0.        ,   1.        ,   0.        ],\n",
       "       [ 20.        ,   1.        , 100.92857143,   0.        ,\n",
       "          0.        ,   0.        ,   1.        ],\n",
       "       [ 75.        ,   0.        , 100.92857143,   0.        ,\n",
       "          1.        ,   0.        ,   0.        ],\n",
       "       [ 19.        ,   0.        , 101.        ,   0.        ,\n",
       "          0.        ,   0.        ,   1.        ],\n",
       "       [ 82.        ,   0.        , 100.92857143,   1.        ,\n",
       "          0.        ,   1.        ,   0.        ],\n",
       "       [  8.        ,   0.        , 101.        ,   0.        ,\n",
       "          0.        ,   1.        ,   0.        ],\n",
       "       [ 42.        ,   1.        , 100.92857143,   0.        ,\n",
       "          0.        ,   0.        ,   0.        ],\n",
       "       [ 42.        ,   0.        , 101.        ,   1.        ,\n",
       "          1.        ,   0.        ,   0.        ],\n",
       "       [ 47.        ,   1.        , 101.        ,   1.        ,\n",
       "          0.        ,   0.        ,   0.        ],\n",
       "       [ 31.        ,   0.        ,  98.        ,   0.        ,\n",
       "          0.        ,   1.        ,   0.        ],\n",
       "       [ 22.        ,   0.        ,  99.        ,   0.        ,\n",
       "          0.        ,   0.        ,   0.        ],\n",
       "       [ 10.        ,   1.        ,  98.        ,   0.        ,\n",
       "          0.        ,   1.        ,   0.        ],\n",
       "       [ 23.        ,   1.        ,  98.        ,   1.        ,\n",
       "          0.        ,   0.        ,   1.        ],\n",
       "       [ 24.        ,   1.        , 102.        ,   0.        ,\n",
       "          0.        ,   0.        ,   0.        ],\n",
       "       [ 73.        ,   0.        ,  98.        ,   1.        ,\n",
       "          0.        ,   0.        ,   0.        ],\n",
       "       [ 23.        ,   0.        , 100.92857143,   1.        ,\n",
       "          0.        ,   0.        ,   1.        ],\n",
       "       [ 64.        ,   0.        , 102.        ,   1.        ,\n",
       "          0.        ,   0.        ,   0.        ],\n",
       "       [ 34.        ,   1.        , 100.92857143,   0.        ,\n",
       "          0.        ,   0.        ,   1.        ],\n",
       "       [ 20.        ,   0.        , 101.        ,   0.        ,\n",
       "          0.        ,   0.        ,   0.        ],\n",
       "       [ 16.        ,   0.        , 104.        ,   1.        ,\n",
       "          0.        ,   1.        ,   0.        ],\n",
       "       [ 38.        ,   0.        , 101.        ,   0.        ,\n",
       "          0.        ,   0.        ,   0.        ],\n",
       "       [ 68.        ,   1.        , 101.        ,   0.        ,\n",
       "          1.        ,   0.        ,   0.        ],\n",
       "       [ 80.        ,   0.        ,  98.        ,   0.        ,\n",
       "          1.        ,   0.        ,   0.        ],\n",
       "       [ 49.        ,   0.        , 102.        ,   0.        ,\n",
       "          1.        ,   0.        ,   0.        ],\n",
       "       [ 44.        ,   0.        , 104.        ,   1.        ,\n",
       "          0.        ,   0.        ,   1.        ],\n",
       "       [ 20.        ,   1.        , 102.        ,   1.        ,\n",
       "          1.        ,   0.        ,   0.        ],\n",
       "       [  6.        ,   0.        , 104.        ,   0.        ,\n",
       "          0.        ,   1.        ,   0.        ],\n",
       "       [ 12.        ,   0.        , 104.        ,   0.        ,\n",
       "          0.        ,   0.        ,   0.        ],\n",
       "       [ 51.        ,   1.        , 101.        ,   0.        ,\n",
       "          0.        ,   1.        ,   0.        ],\n",
       "       [  5.        ,   0.        , 102.        ,   1.        ,\n",
       "          0.        ,   1.        ,   0.        ],\n",
       "       [ 27.        ,   0.        , 100.        ,   1.        ,\n",
       "          1.        ,   0.        ,   0.        ],\n",
       "       [ 65.        ,   0.        ,  99.        ,   1.        ,\n",
       "          0.        ,   0.        ,   0.        ],\n",
       "       [ 79.        ,   1.        , 100.92857143,   1.        ,\n",
       "          0.        ,   1.        ,   0.        ]])"
      ]
     },
     "execution_count": 19,
     "metadata": {},
     "output_type": "execute_result"
    }
   ],
   "source": [
    "X_train_transformed"
   ]
  },
  {
   "cell_type": "markdown",
   "id": "50c2a64a-4659-44c6-917c-6abac7db0fe1",
   "metadata": {},
   "source": [
    "## 2. Mentos Zindagi"
   ]
  },
  {
   "cell_type": "code",
   "execution_count": 20,
   "id": "d393e76c-430f-453e-9797-ded384409a99",
   "metadata": {},
   "outputs": [],
   "source": [
    "from sklearn.compose import ColumnTransformer"
   ]
  },
  {
   "cell_type": "code",
   "execution_count": 25,
   "id": "f3418c00-c179-4c6e-9335-480ccf2ab268",
   "metadata": {},
   "outputs": [],
   "source": [
    "transformer = ColumnTransformer(transformers = [\n",
    "    ('tnf1', SimpleImputer(), ['fever']),\n",
    "    ('tnf2', OrdinalEncoder(categories = [['Mild','Strong']]), ['cough']),\n",
    "    ('tnf3', OneHotEncoder(sparse = False, drop = 'first'),['gender','city'])\n",
    "], remainder = 'passthrough')"
   ]
  },
  {
   "cell_type": "code",
   "execution_count": 27,
   "id": "2f233a12-5b9a-461e-9000-90ebc40c857f",
   "metadata": {},
   "outputs": [
    {
     "data": {
      "text/plain": [
       "(80, 7)"
      ]
     },
     "execution_count": 27,
     "metadata": {},
     "output_type": "execute_result"
    }
   ],
   "source": [
    "transformer.fit_transform(X_train).shape"
   ]
  },
  {
   "cell_type": "code",
   "execution_count": 28,
   "id": "b7c1b1d6-83c6-4dd8-aceb-33e6102f74b3",
   "metadata": {},
   "outputs": [
    {
     "data": {
      "text/plain": [
       "(20, 7)"
      ]
     },
     "execution_count": 28,
     "metadata": {},
     "output_type": "execute_result"
    }
   ],
   "source": [
    "transformer.transform(X_test).shape"
   ]
  },
  {
   "cell_type": "code",
   "execution_count": null,
   "id": "b0eeb886-0eb7-447e-84fc-09afa139feab",
   "metadata": {},
   "outputs": [],
   "source": []
  }
 ],
 "metadata": {
  "kernelspec": {
   "display_name": "Python 3 (ipykernel)",
   "language": "python",
   "name": "python3"
  },
  "language_info": {
   "codemirror_mode": {
    "name": "ipython",
    "version": 3
   },
   "file_extension": ".py",
   "mimetype": "text/x-python",
   "name": "python",
   "nbconvert_exporter": "python",
   "pygments_lexer": "ipython3",
   "version": "3.11.7"
  }
 },
 "nbformat": 4,
 "nbformat_minor": 5
}
